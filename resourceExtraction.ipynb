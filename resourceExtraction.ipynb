{
 "cells": [
  {
   "cell_type": "code",
   "execution_count": 1,
   "id": "555898f9-974a-49f9-808c-2cf74fceb410",
   "metadata": {
    "tags": []
   },
   "outputs": [],
   "source": [
    "# Process outputs to get resource values\n",
    "# Requires the non-instrumented binary in most cases\n",
    "\n",
    "# Supports:\n",
    "#   * Output: Total size of program stdout\n",
    "#   * Trace: Size of program traces (could support count of individual funcs)\n",
    "#   * Tcpdump: Different measures based on live tcp capture"
   ]
  },
  {
   "cell_type": "code",
   "execution_count": 2,
   "id": "483e7146-3bc6-4813-b5ff-24ed8f0ad5b2",
   "metadata": {},
   "outputs": [],
   "source": [
    "import os\n",
    "import random\n",
    "from tqdm import tqdm\n",
    "import pickle"
   ]
  },
  {
   "cell_type": "code",
   "execution_count": 3,
   "id": "3614b513-27c5-417a-8383-e7df23db6335",
   "metadata": {},
   "outputs": [],
   "source": [
    "def make_program_string(args, file):\n",
    "    resource = \"\"\n",
    "    program = \"\"\n",
    "    if args.resource_type == 'trace':\n",
    "        resource = f\"{args.dynamo_rio}drltrace -logdir logs -- \"\n",
    "    elif args.resource_type == 'output_lines':\n",
    "        resource = \"\" # Only normal output\n",
    "            \n",
    "    if args.file_input:\n",
    "        program = f\"{args.program_string} {args.fuzzing_output}{file}\"\n",
    "    else:\n",
    "        assert False, \"Not Implemented\"\n",
    "    \n",
    "    return resource + program\n",
    "\n",
    "def make_tail(args):\n",
    "    return None # Do not need"
   ]
  },
  {
   "cell_type": "code",
   "execution_count": 4,
   "id": "506b9853-6bd4-4259-abf3-d5636c4a4f87",
   "metadata": {},
   "outputs": [],
   "source": [
    "Args = type('Args', (object,), {})\n",
    "args = Args()\n",
    "\n",
    "args.set_name = \"out_100k\"\n",
    "args.fuzzing_output = \"./programs/coreutils/out_100k/default/queue_all/\"\n",
    "args.file_input = True # If False then stdin to the program\n",
    "args.program_string = \"./programs/coreutils/clean/tar-1.35/src/tar --list -f \"\n",
    "args.resource_type = \"output_size\"  # choices=['output_size', 'trace']\n",
    "args.file_limit = 1000 # Maximum number of files to process (default=0, all files)\n",
    "args.shuffle = True # Randomize the file processing order\n",
    "args.dynamo_rio = \"./dynamorio/\""
   ]
  },
  {
   "cell_type": "code",
   "execution_count": 5,
   "id": "2311c439-6ac1-415a-ba14-b7139e3057d0",
   "metadata": {},
   "outputs": [
    {
     "name": "stdout",
     "output_type": "stream",
     "text": [
      "Loaded 105835 fuzzing output files\n",
      "Taking 1000 files\n"
     ]
    }
   ],
   "source": [
    "files = os.listdir(args.fuzzing_output)\n",
    "assert len(files) > 0, \"No fuzzing output files found\"\n",
    "if args.shuffle: random.shuffle(files)\n",
    "print(f\"Loaded {len(files)} fuzzing output files\")\n",
    "if args.file_limit > 0:\n",
    "    files = files[:args.file_limit]\n",
    "    print(f\"Taking {len(files)} files\")"
   ]
  },
  {
   "cell_type": "code",
   "execution_count": 6,
   "id": "5b5b1159-3e47-4a1d-b264-3e307c83f2a3",
   "metadata": {},
   "outputs": [
    {
     "name": "stdout",
     "output_type": "stream",
     "text": [
      "Testing program functionality\n"
     ]
    },
    {
     "data": {
      "text/plain": [
       "['./programs/coreutils/clean/tar-1.35/src/tar: This does not look like a tar archive',\n",
       " './programs/coreutils/clean/tar-1.35/src/tar: Skipping to next header',\n",
       " './programs/coreutils/clean/tar-1.35/src/tar: A lone zero block at 16',\n",
       " './programs/coreutils/clean/tar-1.35/src/tar: Exiting with failure status due to previous errors']"
      ]
     },
     "execution_count": 6,
     "metadata": {},
     "output_type": "execute_result"
    }
   ],
   "source": [
    "print(\"Testing program functionality\")\n",
    "output = !{args.program_string} {args.fuzzing_output}{files[0]}\n",
    "assert not \"No such file\" in output[0], \"File not found\"\n",
    "output"
   ]
  },
  {
   "cell_type": "code",
   "execution_count": 7,
   "id": "aede9006-81b1-4ab4-b6cf-37f04573b12b",
   "metadata": {},
   "outputs": [],
   "source": [
    "#!rm logs/*log"
   ]
  },
  {
   "cell_type": "code",
   "execution_count": 8,
   "id": "48edbacf-d11e-4d88-8469-682179efad4c",
   "metadata": {},
   "outputs": [
    {
     "name": "stderr",
     "output_type": "stream",
     "text": [
      "100%|██████████| 1000/1000 [00:02<00:00, 399.17it/s]\n"
     ]
    }
   ],
   "source": [
    "resources = []\n",
    "for file in tqdm(files):\n",
    "    vs = !{make_program_string(args, file)}\n",
    "    sz = 0\n",
    "    for v in vs: sz += len(v)\n",
    "    resources.append(sz)\n",
    "    \n",
    "    #sz = !wc -c logs/*log\n",
    "    #sz = sz[0].split(\" \")\n",
    "    #sz = int(sz[0])\n",
    "    #sizes.append(sz)\n",
    "    #!rm logs/*log"
   ]
  },
  {
   "cell_type": "code",
   "execution_count": 9,
   "id": "898e8c76-8e2f-449e-80f5-65f9bdbb4d4e",
   "metadata": {},
   "outputs": [
    {
     "data": {
      "text/plain": [
       "643"
      ]
     },
     "execution_count": 9,
     "metadata": {},
     "output_type": "execute_result"
    }
   ],
   "source": [
    "max(resources)"
   ]
  },
  {
   "cell_type": "code",
   "execution_count": 10,
   "id": "3142d8e6-0604-407a-a84c-833743e680a6",
   "metadata": {},
   "outputs": [],
   "source": [
    "def saveData(obj, name):\n",
    "    with open('./data/' +  name + '.pkl', 'wb') as f:\n",
    "        pickle.dump(obj, f)\n",
    "        "
   ]
  },
  {
   "cell_type": "code",
   "execution_count": 11,
   "id": "921ab84e-74f7-4a76-ae4a-70a52cf63147",
   "metadata": {},
   "outputs": [],
   "source": [
    "saveData({\"labels\":resources}, args.set_name)"
   ]
  }
 ],
 "metadata": {
  "kernelspec": {
   "display_name": "tensorflow2-p36",
   "language": "python",
   "name": "tensorflow2-p36"
  },
  "language_info": {
   "codemirror_mode": {
    "name": "ipython",
    "version": 3
   },
   "file_extension": ".py",
   "mimetype": "text/x-python",
   "name": "python",
   "nbconvert_exporter": "python",
   "pygments_lexer": "ipython3",
   "version": "3.6.8"
  }
 },
 "nbformat": 4,
 "nbformat_minor": 5
}
